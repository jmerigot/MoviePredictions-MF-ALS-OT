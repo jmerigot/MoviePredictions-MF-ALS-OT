{
 "cells": [
  {
   "cell_type": "code",
   "execution_count": 1,
   "metadata": {},
   "outputs": [],
   "source": [
    "import numpy as np\n",
    "import pandas as pd\n",
    "import sklearn\n",
    "import ot\n",
    "import matplotlib.pyplot as plt\n",
    "\n"
   ]
  },
  {
   "cell_type": "code",
   "execution_count": 2,
   "metadata": {},
   "outputs": [],
   "source": [
    "def compute_rmse(predictions, test_matrix):\n",
    "  masked = np.ma.array(test_matrix, mask=np.isnan(test_matrix))\n",
    "  diff = np.ma.subtract(predictions, masked)\n",
    "  squared = np.ma.power(diff, 2)\n",
    "  return np.ma.sqrt(np.ma.mean(squared))\n"
   ]
  },
  {
   "cell_type": "code",
   "execution_count": 3,
   "metadata": {},
   "outputs": [],
   "source": [
    "ratings_train = np.load('../datasets/ratings_train.npy')\n",
    "ratings_test = np.load('../datasets/ratings_test.npy')\n",
    "m,n = ratings_train.shape\n",
    "data = np.nan_to_num(ratings_train)\n",
    "data_test = np.nan_to_num(ratings_test)\n"
   ]
  },
  {
   "cell_type": "code",
   "execution_count": 11,
   "metadata": {},
   "outputs": [],
   "source": [
    "from sklearn.decomposition import NMF\n",
    "import scipy.sparse as sps\n",
    "from scipy.spatial.distance import pdist, squareform\n",
    "\n",
    "csr_ratings_train = sps.csr_matrix(np.nan_to_num(ratings_train), shape=(610, 4980))\n",
    "csr_ratings_train.eliminate_zeros()\n",
    "\n",
    "nmf = NMF(n_components=10, init='nndsvd', random_state=0, max_iter=1000)\n",
    "W = nmf.fit_transform(csr_ratings_train)\n",
    "H = nmf.components_\n",
    "flattened_array = np.unique(H.flatten())\n",
    "sorted_unique = np.sort(flattened_array)\n",
    "second_min = sorted_unique[1]\n",
    "threshold = second_min/2\n",
    "H[H < threshold] = threshold\n",
    "flattened_array = np.unique(W.flatten())\n",
    "sorted_unique = np.sort(flattened_array)\n",
    "second_min = sorted_unique[1]\n",
    "threshold = second_min/2\n",
    "W[W < threshold] = threshold\n",
    "\n",
    "\n",
    "from scipy.spatial.distance import pdist, squareform\n",
    "from sklearn.decomposition import PCA\n",
    "\n",
    "pca = PCA(n_components=10)\n",
    "\n",
    "user_dist = pdist(data, metric='jaccard')\n",
    "user_sim_matrix = squareform(user_dist)\n",
    "W = pca.fit_transform(user_sim_matrix)\n",
    "\n",
    "movie_dist = pdist(data.T, metric='jaccard')\n",
    "movie_sim_matrix = squareform(movie_dist)\n",
    "H = pca.fit_transform(movie_sim_matrix)\n"
   ]
  },
  {
   "cell_type": "code",
   "execution_count": 16,
   "metadata": {},
   "outputs": [],
   "source": [
    "from Matcher import Matcher, model_parameters,train_parameters\n",
    "\n",
    "train_pi_sample = ratings_train / data.sum()\n",
    "test_pi_sample = ratings_test/data_test.sum()\n",
    "data_pi_sample = data / data.sum()\n",
    "\n",
    "# RiOT\n",
    "model = Matcher(train_pi_sample, W.T, H.T, r=5)\n",
    "lam = 1\n",
    "model_param = model_parameters(A0=np.eye(10, 10),\n",
    "                                        gamma=0.2,\n",
    "                                        const=1,\n",
    "                                        degree=2,\n",
    "                                        lam=lam,\n",
    "                                        lambda_mu=1,\n",
    "                                        lambda_nu=1,\n",
    "                                        delta=0.005)\n",
    "train_param = train_parameters(max_outer_iteration=1,\n",
    "                                        max_inner_iteration=10,\n",
    "                                        learning_rate=0.01)\n",
    "model.riot(model_param, train_param)\n",
    "# test_r, test_c = data_pi_sample.sum(axis=1), data_pi_sample.sum(axis=0)\n",
    "# pred_pi = ot.rot(model.C, test_r, test_c, lam)[0]\n",
    "\n",
    "# print(compute_rmse(pred_pi,test_pi_sample))\n"
   ]
  },
  {
   "cell_type": "code",
   "execution_count": 21,
   "metadata": {},
   "outputs": [
    {
     "data": {
      "text/plain": [
       "3.0102333160984625"
      ]
     },
     "execution_count": 21,
     "metadata": {},
     "output_type": "execute_result"
    }
   ],
   "source": [
    "model.C.max()\n"
   ]
  },
  {
   "cell_type": "code",
   "execution_count": 19,
   "metadata": {},
   "outputs": [],
   "source": [
    "data_pi_sample = data / data.sum()\n",
    "test_r, test_c = data_pi_sample.sum(axis=1), data_pi_sample.sum(axis=0)\n",
    "pred_pi = ot.rot(model.C, test_r, test_c, lam)[0]\n"
   ]
  },
  {
   "cell_type": "code",
   "execution_count": 25,
   "metadata": {},
   "outputs": [
    {
     "data": {
      "text/plain": [
       "(array([1.94016941e-10, 1.94071678e-10, 1.94086521e-10, ...,\n",
       "        1.59811520e-04, 1.85441781e-04, 1.89047734e-04]),\n",
       " array([1, 1, 2, ..., 1, 1, 1]))"
      ]
     },
     "execution_count": 25,
     "metadata": {},
     "output_type": "execute_result"
    }
   ],
   "source": [
    "np.unique(pred_pi, return_counts=True)\n"
   ]
  },
  {
   "cell_type": "code",
   "execution_count": 23,
   "metadata": {},
   "outputs": [],
   "source": [
    "def transform_to_integers(matrix):\n",
    "    num_intervals = 10\n",
    "    min_value = matrix.min()\n",
    "    max_value = matrix.max()\n",
    "\n",
    "    # Calculate the interval width\n",
    "    interval_width = (max_value - min_value) / num_intervals\n",
    "\n",
    "    # Map the values to integers between 1 and 10\n",
    "    transformed_matrix = ((matrix - min_value) / interval_width).clip(0, num_intervals).astype(int) / 2\n",
    "\n",
    "    return transformed_matrix\n"
   ]
  },
  {
   "cell_type": "code",
   "execution_count": 37,
   "metadata": {},
   "outputs": [
    {
     "name": "stdout",
     "output_type": "stream",
     "text": [
      "2.726753705645478\n"
     ]
    }
   ],
   "source": [
    "print(compute_rmse(transform_to_integers(model.C), ratings_train))\n"
   ]
  },
  {
   "cell_type": "code",
   "execution_count": 28,
   "metadata": {},
   "outputs": [
    {
     "data": {
      "text/plain": [
       "array([[1., 1., 1., ..., 1., 1., 1.],\n",
       "       [1., 1., 1., ..., 1., 1., 1.],\n",
       "       [1., 1., 1., ..., 1., 1., 1.],\n",
       "       ...,\n",
       "       [1., 1., 1., ..., 1., 1., 1.],\n",
       "       [1., 1., 1., ..., 1., 1., 1.],\n",
       "       [1., 1., 1., ..., 1., 1., 1.]])"
      ]
     },
     "execution_count": 28,
     "metadata": {},
     "output_type": "execute_result"
    }
   ],
   "source": [
    "transform_to_integers(model.C)\n"
   ]
  },
  {
   "cell_type": "code",
   "execution_count": 26,
   "metadata": {},
   "outputs": [
    {
     "data": {
      "text/plain": [
       "(array([1., 2., 3., 4., 5.]),\n",
       " array([3029587,    5999,    1751,     424,      39]))"
      ]
     },
     "execution_count": 26,
     "metadata": {},
     "output_type": "execute_result"
    }
   ],
   "source": [
    "np.unique(np.around(np.clip(model.C, a_min=0, a_max=5), 0), return_counts=True)\n"
   ]
  },
  {
   "cell_type": "code",
   "execution_count": 40,
   "metadata": {},
   "outputs": [
    {
     "data": {
      "text/plain": [
       "3033230"
      ]
     },
     "execution_count": 40,
     "metadata": {},
     "output_type": "execute_result"
    }
   ],
   "source": [
    "model.C.argmax()\n"
   ]
  },
  {
   "cell_type": "code",
   "execution_count": 41,
   "metadata": {},
   "outputs": [
    {
     "data": {
      "text/plain": [
       "6.791664318245063e-07"
      ]
     },
     "execution_count": 41,
     "metadata": {},
     "output_type": "execute_result"
    }
   ],
   "source": [
    "pred_pi.flatten()[3033230]\n"
   ]
  },
  {
   "cell_type": "code",
   "execution_count": 29,
   "metadata": {},
   "outputs": [
    {
     "data": {
      "text/plain": [
       "[<matplotlib.lines.Line2D at 0x7fb67ca1d4b0>]"
      ]
     },
     "execution_count": 29,
     "metadata": {},
     "output_type": "execute_result"
    },
    {
     "data": {
      "image/png": "[encoded data removed]",
      "text/plain": [
       "<Figure size 640x480 with 1 Axes>"
      ]
     },
     "metadata": {},
     "output_type": "display_data"
    }
   ],
   "source": [
    "flattened_pred_pi = transform_to_integers(model.C).flatten()\n",
    "flattened_pred_pi.sort()\n",
    "fig, ax = plt.subplots()\n",
    "ax.set_yscale('log')\n",
    "plt.plot(range(len(flattened_pred_pi)), flattened_pred_pi,)\n"
   ]
  },
  {
   "cell_type": "code",
   "execution_count": 34,
   "metadata": {},
   "outputs": [
    {
     "data": {
      "text/plain": [
       "0.01040160642570281"
      ]
     },
     "execution_count": 34,
     "metadata": {},
     "output_type": "execute_result"
    }
   ],
   "source": [
    "31598/(610*4980)\n"
   ]
  },
  {
   "cell_type": "code",
   "execution_count": 33,
   "metadata": {},
   "outputs": [
    {
     "data": {
      "text/plain": [
       "31598"
      ]
     },
     "execution_count": 33,
     "metadata": {},
     "output_type": "execute_result"
    }
   ],
   "source": [
    "np.count_nonzero(~np.isnan(ratings_train))\n"
   ]
  },
  {
   "cell_type": "code",
   "execution_count": 39,
   "metadata": {},
   "outputs": [
    {
     "data": {
      "text/plain": [
       "0.00018588545871522195"
      ]
     },
     "execution_count": 39,
     "metadata": {},
     "output_type": "execute_result"
    }
   ],
   "source": [
    "flattened_pred_pi[-1]\n"
   ]
  },
  {
   "cell_type": "code",
   "execution_count": 43,
   "metadata": {},
   "outputs": [
    {
     "data": {
      "text/plain": [
       "0.00018588526471437244"
      ]
     },
     "execution_count": 43,
     "metadata": {},
     "output_type": "execute_result"
    }
   ],
   "source": [
    "flattened_pred_pi[-1] - flattened_pred_pi[0]\n"
   ]
  },
  {
   "cell_type": "code",
   "execution_count": 5,
   "metadata": {},
   "outputs": [],
   "source": [
    "from Matcher import Matcher, model_parameters,train_parameters\n",
    "def run_riot_matcher():\n",
    "  train_pi_sample = data / data.sum()\n",
    "  test_pi_sample = data_test/data_test.sum()\n",
    "  # RiOT\n",
    "  model = Matcher(train_pi_sample, W.T, H, r=5)\n",
    "  lam = 1\n",
    "  model_param = model_parameters(A0=np.eye(10, 10),\n",
    "                                          gamma=0.2,\n",
    "                                          const=1,\n",
    "                                          degree=2,\n",
    "                                          lam=lam,\n",
    "                                          lambda_mu=1,\n",
    "                                          lambda_nu=1,\n",
    "                                          delta=0.005)\n",
    "  train_param = train_parameters(max_outer_iteration=1,\n",
    "                                          max_inner_iteration=1,\n",
    "                                          learning_rate=0.01)\n",
    "  model.riot(model_param, train_param)\n",
    "  test_r, test_c = train_pi_sample.sum(axis=1), train_pi_sample.sum(axis=0)\n",
    "  return ot.rot(model.C, test_r, test_c, lam)[0]\n"
   ]
  },
  {
   "cell_type": "code",
   "execution_count": 6,
   "metadata": {},
   "outputs": [
    {
     "ename": "KeyboardInterrupt",
     "evalue": "",
     "output_type": "error",
     "traceback": [
      "\u001b[0;31m---------------------------------------------------------------------------\u001b[0m",
      "\u001b[0;31mKeyboardInterrupt\u001b[0m                         Traceback (most recent call last)",
      "\u001b[1;32m/Users/ellington/dev/masters/ds-projet-2023/assignment1-2023-prestige-worldwide/mi/github_stuff.ipynb Cell 15\u001b[0m line \u001b[0;36m1\n\u001b[0;32m----> <a href='vscode-notebook-cell:/Users/ellington/dev/masters/ds-projet-2023/assignment1-2023-prestige-worldwide/mi/github_stuff.ipynb#X21sZmlsZQ%3D%3D?line=0'>1</a>\u001b[0m run_riot_matcher()\n",
      "\u001b[1;32m/Users/ellington/dev/masters/ds-projet-2023/assignment1-2023-prestige-worldwide/mi/github_stuff.ipynb Cell 15\u001b[0m line \u001b[0;36m1\n\u001b[1;32m      <a href='vscode-notebook-cell:/Users/ellington/dev/masters/ds-projet-2023/assignment1-2023-prestige-worldwide/mi/github_stuff.ipynb#X21sZmlsZQ%3D%3D?line=7'>8</a>\u001b[0m model_param \u001b[39m=\u001b[39m model_parameters(A0\u001b[39m=\u001b[39mnp\u001b[39m.\u001b[39meye(\u001b[39m10\u001b[39m, \u001b[39m10\u001b[39m),\n\u001b[1;32m      <a href='vscode-notebook-cell:/Users/ellington/dev/masters/ds-projet-2023/assignment1-2023-prestige-worldwide/mi/github_stuff.ipynb#X21sZmlsZQ%3D%3D?line=8'>9</a>\u001b[0m                                         gamma\u001b[39m=\u001b[39m\u001b[39m0.2\u001b[39m,\n\u001b[1;32m     <a href='vscode-notebook-cell:/Users/ellington/dev/masters/ds-projet-2023/assignment1-2023-prestige-worldwide/mi/github_stuff.ipynb#X21sZmlsZQ%3D%3D?line=9'>10</a>\u001b[0m                                         const\u001b[39m=\u001b[39m\u001b[39m1\u001b[39m,\n\u001b[0;32m   (...)\u001b[0m\n\u001b[1;32m     <a href='vscode-notebook-cell:/Users/ellington/dev/masters/ds-projet-2023/assignment1-2023-prestige-worldwide/mi/github_stuff.ipynb#X21sZmlsZQ%3D%3D?line=13'>14</a>\u001b[0m                                         lambda_nu\u001b[39m=\u001b[39m\u001b[39m1\u001b[39m,\n\u001b[1;32m     <a href='vscode-notebook-cell:/Users/ellington/dev/masters/ds-projet-2023/assignment1-2023-prestige-worldwide/mi/github_stuff.ipynb#X21sZmlsZQ%3D%3D?line=14'>15</a>\u001b[0m                                         delta\u001b[39m=\u001b[39m\u001b[39m0.005\u001b[39m)\n\u001b[1;32m     <a href='vscode-notebook-cell:/Users/ellington/dev/masters/ds-projet-2023/assignment1-2023-prestige-worldwide/mi/github_stuff.ipynb#X21sZmlsZQ%3D%3D?line=15'>16</a>\u001b[0m train_param \u001b[39m=\u001b[39m train_parameters(max_outer_iteration\u001b[39m=\u001b[39m\u001b[39m1\u001b[39m,\n\u001b[1;32m     <a href='vscode-notebook-cell:/Users/ellington/dev/masters/ds-projet-2023/assignment1-2023-prestige-worldwide/mi/github_stuff.ipynb#X21sZmlsZQ%3D%3D?line=16'>17</a>\u001b[0m                                         max_inner_iteration\u001b[39m=\u001b[39m\u001b[39m1\u001b[39m,\n\u001b[1;32m     <a href='vscode-notebook-cell:/Users/ellington/dev/masters/ds-projet-2023/assignment1-2023-prestige-worldwide/mi/github_stuff.ipynb#X21sZmlsZQ%3D%3D?line=17'>18</a>\u001b[0m                                         learning_rate\u001b[39m=\u001b[39m\u001b[39m0.01\u001b[39m)\n\u001b[0;32m---> <a href='vscode-notebook-cell:/Users/ellington/dev/masters/ds-projet-2023/assignment1-2023-prestige-worldwide/mi/github_stuff.ipynb#X21sZmlsZQ%3D%3D?line=18'>19</a>\u001b[0m model\u001b[39m.\u001b[39;49mriot(model_param, train_param)\n\u001b[1;32m     <a href='vscode-notebook-cell:/Users/ellington/dev/masters/ds-projet-2023/assignment1-2023-prestige-worldwide/mi/github_stuff.ipynb#X21sZmlsZQ%3D%3D?line=19'>20</a>\u001b[0m test_r, test_c \u001b[39m=\u001b[39m train_pi_sample\u001b[39m.\u001b[39msum(axis\u001b[39m=\u001b[39m\u001b[39m1\u001b[39m), train_pi_sample\u001b[39m.\u001b[39msum(axis\u001b[39m=\u001b[39m\u001b[39m0\u001b[39m)\n\u001b[1;32m     <a href='vscode-notebook-cell:/Users/ellington/dev/masters/ds-projet-2023/assignment1-2023-prestige-worldwide/mi/github_stuff.ipynb#X21sZmlsZQ%3D%3D?line=20'>21</a>\u001b[0m \u001b[39mreturn\u001b[39;00m ot\u001b[39m.\u001b[39mrot(model\u001b[39m.\u001b[39mC, test_r, test_c, lam)[\u001b[39m0\u001b[39m]\n",
      "File \u001b[0;32m~/dev/masters/ds-projet-2023/assignment1-2023-prestige-worldwide/mi/Matcher.py:197\u001b[0m, in \u001b[0;36mMatcher.riot\u001b[0;34m(self, model_param, train_param)\u001b[0m\n\u001b[1;32m    195\u001b[0m grad_C \u001b[39m=\u001b[39m np\u001b[39m.\u001b[39mzeros((\u001b[39mself\u001b[39m\u001b[39m.\u001b[39mm,\u001b[39mself\u001b[39m\u001b[39m.\u001b[39mn))\n\u001b[1;32m    196\u001b[0m \u001b[39mfor\u001b[39;00m (i, j) \u001b[39min\u001b[39;00m non_zeros:\n\u001b[0;32m--> 197\u001b[0m     grad_C[i][j] \u001b[39m=\u001b[39m lam \u001b[39m*\u001b[39m (\u001b[39mself\u001b[39m\u001b[39m.\u001b[39mpi_sample[i,j] \u001b[39m+\u001b[39m (theta1 \u001b[39m-\u001b[39m delta\u001b[39m*\u001b[39m(np\u001b[39m.\u001b[39mouter(v, np\u001b[39m.\u001b[39mones(\u001b[39mself\u001b[39m\u001b[39m.\u001b[39mn))[i, j]) \u001b[39m+\u001b[39m np\u001b[39m.\u001b[39mouter(np\u001b[39m.\u001b[39mones(\u001b[39mself\u001b[39m\u001b[39m.\u001b[39mm), w)[i,j] \u001b[39m*\u001b[39m pi[i, j]))\n\u001b[1;32m    199\u001b[0m factor \u001b[39m=\u001b[39m grad_C \u001b[39m*\u001b[39m degree \u001b[39m*\u001b[39m gamma \u001b[39m*\u001b[39m np\u001b[39m.\u001b[39mpower(gamma \u001b[39m*\u001b[39m \u001b[39mself\u001b[39m\u001b[39m.\u001b[39mU0\u001b[39m.\u001b[39mT\u001b[39m.\u001b[39mdot(A)\u001b[39m.\u001b[39mdot(\u001b[39mself\u001b[39m\u001b[39m.\u001b[39mV0) \u001b[39m+\u001b[39m const , degree \u001b[39m-\u001b[39m \u001b[39m1\u001b[39m)\n\u001b[1;32m    200\u001b[0m grad_A \u001b[39m=\u001b[39m \u001b[39mself\u001b[39m\u001b[39m.\u001b[39mU0\u001b[39m.\u001b[39mdot(factor)\u001b[39m.\u001b[39mdot(\u001b[39mself\u001b[39m\u001b[39m.\u001b[39mV0\u001b[39m.\u001b[39mT)\n",
      "\u001b[0;31mKeyboardInterrupt\u001b[0m: "
     ]
    }
   ],
   "source": [
    "run_riot_matcher()\n"
   ]
  }
 ],
 "metadata": {
  "kernelspec": {
   "display_name": "Python 3",
   "language": "python",
   "name": "python3"
  },
  "language_info": {
   "codemirror_mode": {
    "name": "ipython",
    "version": 3
   },
   "file_extension": ".py",
   "mimetype": "text/x-python",
   "name": "python",
   "nbconvert_exporter": "python",
   "pygments_lexer": "ipython3",
   "version": "3.10.11"
  }
 },
 "nbformat": 4,
 "nbformat_minor": 2
}
