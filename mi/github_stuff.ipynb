{
 "cells": [
  {
   "cell_type": "code",
   "execution_count": 37,
   "metadata": {},
   "outputs": [],
   "source": [
    "import numpy as np\n",
    "import pandas as pd\n",
    "import sklearn\n",
    "import ot\n",
    "import matplotlib.pyplot as plt\n",
    "\n"
   ]
  },
  {
   "cell_type": "code",
   "execution_count": 38,
   "metadata": {},
   "outputs": [],
   "source": [
    "def compute_rmse(predictions, test_matrix):\n",
    "  masked = np.ma.array(test_matrix, mask=np.isnan(test_matrix))\n",
    "  diff = np.ma.subtract(predictions, masked)\n",
    "  squared = np.ma.power(diff, 2)\n",
    "  return np.ma.sqrt(np.ma.mean(squared))"
   ]
  },
  {
   "cell_type": "code",
   "execution_count": 39,
   "metadata": {},
   "outputs": [],
   "source": [
    "ratings_train = np.load('../datasets/ratings_train.npy')\n",
    "ratings_test = np.load('../datasets/ratings_test.npy')\n",
    "m,n = ratings_train.shape\n",
    "data = np.nan_to_num(ratings_train)\n",
    "data_test = np.nan_to_num(ratings_test)\n"
   ]
  },
  {
   "cell_type": "code",
   "execution_count": 40,
   "metadata": {},
   "outputs": [],
   "source": [
    "from sklearn.decomposition import NMF\n",
    "import scipy.sparse as sps\n",
    "\n",
    "csr_ratings_train = sps.csr_matrix(np.nan_to_num(ratings_train), shape=(610, 4980))\n",
    "csr_ratings_train.eliminate_zeros()\n",
    "\n",
    "nmf = NMF(n_components=10, init='nndsvd', random_state=0, max_iter=1000)\n",
    "W = nmf.fit_transform(csr_ratings_train)\n",
    "H = nmf.components_\n",
    "flattened_array = np.unique(H.flatten())\n",
    "sorted_unique = np.sort(flattened_array)\n",
    "second_min = sorted_unique[1]\n",
    "threshold = second_min/2\n",
    "H[H < threshold] = threshold\n",
    "flattened_array = np.unique(W.flatten())\n",
    "sorted_unique = np.sort(flattened_array)\n",
    "second_min = sorted_unique[1]\n",
    "threshold = second_min/2\n",
    "W[W < threshold] = threshold\n"
   ]
  },
  {
   "cell_type": "code",
   "execution_count": 41,
   "metadata": {},
   "outputs": [
    {
     "name": "stdout",
     "output_type": "stream",
     "text": [
      "(10, 4980)\n"
     ]
    }
   ],
   "source": [
    "print(H.shape)"
   ]
  },
  {
   "cell_type": "code",
   "execution_count": 43,
   "metadata": {},
   "outputs": [
    {
     "name": "stdout",
     "output_type": "stream",
     "text": [
      "outer iteration 0\n",
      "inner iteration 0\n",
      "inner iteration 0\n",
      "inner iteration 0\n"
     ]
    },
    {
     "ename": "KeyboardInterrupt",
     "evalue": "",
     "output_type": "error",
     "traceback": [
      "\u001b[1;31m---------------------------------------------------------------------------\u001b[0m",
      "\u001b[1;31mKeyboardInterrupt\u001b[0m                         Traceback (most recent call last)",
      "\u001b[1;32mc:\\Users\\inane\\OneDrive\\Bureau\\assignment1-2023-prestige-worldwide\\mi\\github_stuff.ipynb Cell 6\u001b[0m line \u001b[0;36m1\n\u001b[0;32m      <a href='vscode-notebook-cell:/c%3A/Users/inane/OneDrive/Bureau/assignment1-2023-prestige-worldwide/mi/github_stuff.ipynb#W5sZmlsZQ%3D%3D?line=7'>8</a>\u001b[0m model_param \u001b[39m=\u001b[39m model_parameters(A0\u001b[39m=\u001b[39mnp\u001b[39m.\u001b[39meye(\u001b[39m10\u001b[39m, \u001b[39m10\u001b[39m),\n\u001b[0;32m      <a href='vscode-notebook-cell:/c%3A/Users/inane/OneDrive/Bureau/assignment1-2023-prestige-worldwide/mi/github_stuff.ipynb#W5sZmlsZQ%3D%3D?line=8'>9</a>\u001b[0m                                         gamma\u001b[39m=\u001b[39m\u001b[39m0.2\u001b[39m,\n\u001b[0;32m     <a href='vscode-notebook-cell:/c%3A/Users/inane/OneDrive/Bureau/assignment1-2023-prestige-worldwide/mi/github_stuff.ipynb#W5sZmlsZQ%3D%3D?line=9'>10</a>\u001b[0m                                         const\u001b[39m=\u001b[39m\u001b[39m1\u001b[39m,\n\u001b[1;32m   (...)\u001b[0m\n\u001b[0;32m     <a href='vscode-notebook-cell:/c%3A/Users/inane/OneDrive/Bureau/assignment1-2023-prestige-worldwide/mi/github_stuff.ipynb#W5sZmlsZQ%3D%3D?line=13'>14</a>\u001b[0m                                         lambda_nu\u001b[39m=\u001b[39m\u001b[39m1\u001b[39m,\n\u001b[0;32m     <a href='vscode-notebook-cell:/c%3A/Users/inane/OneDrive/Bureau/assignment1-2023-prestige-worldwide/mi/github_stuff.ipynb#W5sZmlsZQ%3D%3D?line=14'>15</a>\u001b[0m                                         delta\u001b[39m=\u001b[39m\u001b[39m0.005\u001b[39m)\n\u001b[0;32m     <a href='vscode-notebook-cell:/c%3A/Users/inane/OneDrive/Bureau/assignment1-2023-prestige-worldwide/mi/github_stuff.ipynb#W5sZmlsZQ%3D%3D?line=15'>16</a>\u001b[0m train_param \u001b[39m=\u001b[39m train_parameters(max_outer_iteration\u001b[39m=\u001b[39m\u001b[39m20\u001b[39m,\n\u001b[0;32m     <a href='vscode-notebook-cell:/c%3A/Users/inane/OneDrive/Bureau/assignment1-2023-prestige-worldwide/mi/github_stuff.ipynb#W5sZmlsZQ%3D%3D?line=16'>17</a>\u001b[0m                                         max_inner_iteration\u001b[39m=\u001b[39m\u001b[39m10\u001b[39m,\n\u001b[0;32m     <a href='vscode-notebook-cell:/c%3A/Users/inane/OneDrive/Bureau/assignment1-2023-prestige-worldwide/mi/github_stuff.ipynb#W5sZmlsZQ%3D%3D?line=17'>18</a>\u001b[0m                                         learning_rate\u001b[39m=\u001b[39m\u001b[39m0.01\u001b[39m)\n\u001b[1;32m---> <a href='vscode-notebook-cell:/c%3A/Users/inane/OneDrive/Bureau/assignment1-2023-prestige-worldwide/mi/github_stuff.ipynb#W5sZmlsZQ%3D%3D?line=18'>19</a>\u001b[0m model\u001b[39m.\u001b[39;49mriot(model_param, train_param)\n\u001b[0;32m     <a href='vscode-notebook-cell:/c%3A/Users/inane/OneDrive/Bureau/assignment1-2023-prestige-worldwide/mi/github_stuff.ipynb#W5sZmlsZQ%3D%3D?line=19'>20</a>\u001b[0m test_r, test_c \u001b[39m=\u001b[39m train_pi_sample\u001b[39m.\u001b[39msum(axis\u001b[39m=\u001b[39m\u001b[39m1\u001b[39m), train_pi_sample\u001b[39m.\u001b[39msum(axis\u001b[39m=\u001b[39m\u001b[39m0\u001b[39m)\n\u001b[0;32m     <a href='vscode-notebook-cell:/c%3A/Users/inane/OneDrive/Bureau/assignment1-2023-prestige-worldwide/mi/github_stuff.ipynb#W5sZmlsZQ%3D%3D?line=20'>21</a>\u001b[0m pred_pi \u001b[39m=\u001b[39m ot\u001b[39m.\u001b[39mrot(model\u001b[39m.\u001b[39mC, test_r, test_c, lam)[\u001b[39m0\u001b[39m]\n",
      "File \u001b[1;32mc:\\Users\\inane\\OneDrive\\Bureau\\assignment1-2023-prestige-worldwide\\mi\\Matcher.py:190\u001b[0m, in \u001b[0;36mMatcher.riot\u001b[1;34m(self, model_param, train_param)\u001b[0m\n\u001b[0;32m    187\u001b[0m     xi \u001b[39m=\u001b[39m r_sample \u001b[39m/\u001b[39m (M \u001b[39m-\u001b[39m theta1 \u001b[39m*\u001b[39m Z)\u001b[39m.\u001b[39mdot(eta)\n\u001b[0;32m    189\u001b[0m     theta0 \u001b[39m=\u001b[39m np\u001b[39m.\u001b[39mmin(M\u001b[39m.\u001b[39mdot(eta) \u001b[39m/\u001b[39m Z\u001b[39m.\u001b[39mdot(eta))\n\u001b[1;32m--> 190\u001b[0m     theta2 \u001b[39m=\u001b[39m scipy\u001b[39m.\u001b[39;49moptimize\u001b[39m.\u001b[39;49mroot(q, theta0\u001b[39m-\u001b[39;49m\u001b[39m10\u001b[39;49m)\u001b[39m.\u001b[39mx[\u001b[39m0\u001b[39m]\n\u001b[0;32m    191\u001b[0m     eta \u001b[39m=\u001b[39m c_sample \u001b[39m/\u001b[39m (M \u001b[39m-\u001b[39m theta2 \u001b[39m*\u001b[39m Z)\u001b[39m.\u001b[39mT\u001b[39m.\u001b[39mdot(xi)\n\u001b[0;32m    193\u001b[0m pi \u001b[39m=\u001b[39m np\u001b[39m.\u001b[39mdot(np\u001b[39m.\u001b[39mdiag(xi), np\u001b[39m.\u001b[39mexp(\u001b[39m-\u001b[39mlam \u001b[39m*\u001b[39m C) \u001b[39m*\u001b[39m eta)\n",
      "File \u001b[1;32m~\\AppData\\Local\\Packages\\PythonSoftwareFoundation.Python.3.11_qbz5n2kfra8p0\\LocalCache\\local-packages\\Python311\\site-packages\\scipy\\optimize\\_root.py:236\u001b[0m, in \u001b[0;36mroot\u001b[1;34m(fun, x0, args, method, jac, tol, callback, options)\u001b[0m\n\u001b[0;32m    233\u001b[0m         options\u001b[39m.\u001b[39msetdefault(\u001b[39m'\u001b[39m\u001b[39mfatol\u001b[39m\u001b[39m'\u001b[39m, np\u001b[39m.\u001b[39minf)\n\u001b[0;32m    235\u001b[0m \u001b[39mif\u001b[39;00m meth \u001b[39m==\u001b[39m \u001b[39m'\u001b[39m\u001b[39mhybr\u001b[39m\u001b[39m'\u001b[39m:\n\u001b[1;32m--> 236\u001b[0m     sol \u001b[39m=\u001b[39m _root_hybr(fun, x0, args\u001b[39m=\u001b[39;49margs, jac\u001b[39m=\u001b[39;49mjac, \u001b[39m*\u001b[39;49m\u001b[39m*\u001b[39;49moptions)\n\u001b[0;32m    237\u001b[0m \u001b[39melif\u001b[39;00m meth \u001b[39m==\u001b[39m \u001b[39m'\u001b[39m\u001b[39mlm\u001b[39m\u001b[39m'\u001b[39m:\n\u001b[0;32m    238\u001b[0m     sol \u001b[39m=\u001b[39m _root_leastsq(fun, x0, args\u001b[39m=\u001b[39margs, jac\u001b[39m=\u001b[39mjac, \u001b[39m*\u001b[39m\u001b[39m*\u001b[39moptions)\n",
      "File \u001b[1;32m~\\AppData\\Local\\Packages\\PythonSoftwareFoundation.Python.3.11_qbz5n2kfra8p0\\LocalCache\\local-packages\\Python311\\site-packages\\scipy\\optimize\\_minpack_py.py:239\u001b[0m, in \u001b[0;36m_root_hybr\u001b[1;34m(func, x0, args, jac, col_deriv, xtol, maxfev, band, eps, factor, diag, **unknown_options)\u001b[0m\n\u001b[0;32m    237\u001b[0m     \u001b[39mif\u001b[39;00m maxfev \u001b[39m==\u001b[39m \u001b[39m0\u001b[39m:\n\u001b[0;32m    238\u001b[0m         maxfev \u001b[39m=\u001b[39m \u001b[39m200\u001b[39m \u001b[39m*\u001b[39m (n \u001b[39m+\u001b[39m \u001b[39m1\u001b[39m)\n\u001b[1;32m--> 239\u001b[0m     retval \u001b[39m=\u001b[39m _minpack\u001b[39m.\u001b[39;49m_hybrd(func, x0, args, \u001b[39m1\u001b[39;49m, xtol, maxfev,\n\u001b[0;32m    240\u001b[0m                              ml, mu, epsfcn, factor, diag)\n\u001b[0;32m    241\u001b[0m \u001b[39melse\u001b[39;00m:\n\u001b[0;32m    242\u001b[0m     _check_func(\u001b[39m'\u001b[39m\u001b[39mfsolve\u001b[39m\u001b[39m'\u001b[39m, \u001b[39m'\u001b[39m\u001b[39mfprime\u001b[39m\u001b[39m'\u001b[39m, Dfun, x0, args, n, (n, n))\n",
      "File \u001b[1;32mc:\\Users\\inane\\OneDrive\\Bureau\\assignment1-2023-prestige-worldwide\\mi\\Matcher.py:183\u001b[0m, in \u001b[0;36mMatcher.riot.<locals>.q\u001b[1;34m(theta)\u001b[0m\n\u001b[0;32m    182\u001b[0m \u001b[39mdef\u001b[39;00m \u001b[39mq\u001b[39m(theta):\n\u001b[1;32m--> 183\u001b[0m     \u001b[39mreturn\u001b[39;00m xi\u001b[39m.\u001b[39mdot(Z)\u001b[39m.\u001b[39mdot(c_sample \u001b[39m/\u001b[39m (M \u001b[39m-\u001b[39m theta \u001b[39m*\u001b[39m Z)\u001b[39m.\u001b[39mT\u001b[39m.\u001b[39mdot(xi)) \u001b[39m-\u001b[39m \u001b[39m1\u001b[39m\n",
      "\u001b[1;31mKeyboardInterrupt\u001b[0m: "
     ]
    }
   ],
   "source": [
    "from Matcher import Matcher, model_parameters,train_parameters\n",
    "\n",
    "train_pi_sample = data / data.sum()\n",
    "test_pi_sample = data_test/data_test.sum()\n",
    "# RiOT\n",
    "model = Matcher(train_pi_sample, W.T, H, r=5)\n",
    "lam = 1\n",
    "model_param = model_parameters(A0=np.eye(10, 10),\n",
    "                                        gamma=0.2,\n",
    "                                        const=1,\n",
    "                                        degree=2,\n",
    "                                        lam=lam,\n",
    "                                        lambda_mu=1,\n",
    "                                        lambda_nu=1,\n",
    "                                        delta=0.005)\n",
    "train_param = train_parameters(max_outer_iteration=20,\n",
    "                                        max_inner_iteration=10,\n",
    "                                        learning_rate=0.01)\n",
    "model.riot(model_param, train_param)\n",
    "test_r, test_c = train_pi_sample.sum(axis=1), train_pi_sample.sum(axis=0)\n",
    "pred_pi = ot.rot(model.C, test_r, test_c, lam)[0]\n",
    "\n",
    "print(compute_rmse(pred_pi,test_pi_sample))"
   ]
  },
  {
   "cell_type": "code",
   "execution_count": null,
   "metadata": {},
   "outputs": [],
   "source": []
  }
 ],
 "metadata": {
  "kernelspec": {
   "display_name": "Python 3",
   "language": "python",
   "name": "python3"
  },
  "language_info": {
   "codemirror_mode": {
    "name": "ipython",
    "version": 3
   },
   "file_extension": ".py",
   "mimetype": "text/x-python",
   "name": "python",
   "nbconvert_exporter": "python",
   "pygments_lexer": "ipython3",
   "version": "3.11.6"
  }
 },
 "nbformat": 4,
 "nbformat_minor": 2
}
