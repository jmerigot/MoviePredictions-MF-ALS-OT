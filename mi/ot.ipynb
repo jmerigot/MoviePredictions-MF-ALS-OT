{
 "cells": [
  {
   "cell_type": "code",
   "execution_count": 1,
   "metadata": {},
   "outputs": [],
   "source": [
    "import numpy as np\n",
    "import pandas as pd\n",
    "import sklearn\n",
    "import ot\n",
    "import matplotlib.pyplot as plt\n"
   ]
  },
  {
   "cell_type": "code",
   "execution_count": 2,
   "metadata": {},
   "outputs": [],
   "source": [
    "ratings_train = np.load('../datasets/ratings_train.npy')\n",
    "m,n = ratings_train.shape\n",
    "data = np.nan_to_num(ratings_train)\n"
   ]
  },
  {
   "cell_type": "code",
   "execution_count": 3,
   "metadata": {},
   "outputs": [],
   "source": [
    "def regularization(c,l):\n",
    "    return l*np.power(np.linalg.norm(c),2)/2\n",
    "\n",
    "def gradient_ridge_reg(c,c_hat,gamma,l):\n",
    "    return l*c + (c - c_hat)/gamma\n",
    "\n",
    "\n",
    "\n",
    "def compute_prox(c_hat, h_prox, x0, iterations = 100, gamma = 0.01, epsilon = 0.01,l = 0.01): #h is the non-differentiable function\n",
    "    xk = x0\n",
    "    gk = np.power(np.linalg.norm(xk-c_hat),2)/(2*gamma)\n",
    "    for _ in range(iterations):\n",
    "        xk_old = xk\n",
    "        # compute gradient for differentiable  part of function\n",
    "        gk_gradient = gradient_ridge_reg(xk,c_hat,gamma,l)\n",
    "        # take gradient step to reduce g(x)\n",
    "        xk_gradient = xk - gamma * gk_gradient\n",
    "        # proximal update to reduce h(x) but stay close to xk_gradient\n",
    "        xk = xk_gradient #Change if h is constraining function\n",
    "\n",
    "        if np.linalg.norm(xk - xk_old) < epsilon:\n",
    "            return xk\n",
    "\n",
    "    return xk\n",
    "\n",
    "def current_h(x,gamma):\n",
    "    return 0\n",
    "\n",
    "\n",
    "def cost_learning(pi_hat,mu,nu,epsilon,G, D, steps = 100):\n",
    "    m,n = pi_hat.shape\n",
    "    alpha = np.random.rand(m,1)\n",
    "    beta = np.random.rand(n,1)\n",
    "    u = np.exp(alpha / epsilon)\n",
    "    v = np.exp(beta / epsilon)\n",
    "    c = np.random.rand(m,n)\n",
    "    G = np.linalg.pinv(G)\n",
    "    D = np.linalg.pinv(D)\n",
    "    for i in range(steps):\n",
    "        K = np.exp(-c/epsilon)\n",
    "        kv = np.dot(K,v).reshape(m,1)\n",
    "        u = np.divide(mu.reshape(1,m),kv.reshape(1,m)).reshape(m,1)\n",
    "        ktu = np.dot(K.T,u).reshape(n,1)\n",
    "        v = np.divide(nu.reshape(1,n),ktu.reshape(1,n)).reshape(n,1)\n",
    "        K = pi_hat / (np.dot(u,v.T))\n",
    "        log_k = np.log(K, out=np.zeros_like(K), where=(K!=0))\n",
    "        A_deomposed = G.T@log_k@D\n",
    "        c = compute_prox(-epsilon*A_deomposed,current_h,c)\n",
    "    return epsilon*np.log(u),epsilon*np.log(v),c\n",
    "\n",
    "\n",
    "def transform_to_integers(matrix):\n",
    "    # Define the number of intervals and their boundaries\n",
    "    num_intervals = 10\n",
    "    min_value = 0.0\n",
    "    max_value = matrix.max()\n",
    "\n",
    "    # Calculate the interval width\n",
    "    interval_width = (max_value - min_value) / num_intervals\n",
    "\n",
    "    # Map the values to integers between 1 and 10\n",
    "    transformed_matrix = ((matrix - min_value) / interval_width).clip(0, num_intervals).astype(int) / 2\n",
    "\n",
    "    return transformed_matrix\n",
    "\n",
    "\n",
    "def compute_rmse(predictions, test_matrix):\n",
    "  masked = np.ma.array(test_matrix, mask=np.isnan(test_matrix))\n",
    "  diff = np.ma.subtract(predictions, masked)\n",
    "  squared = np.ma.power(diff, 2)\n",
    "  return np.ma.sqrt(np.ma.mean(squared))\n"
   ]
  },
  {
   "cell_type": "code",
   "execution_count": 4,
   "metadata": {},
   "outputs": [],
   "source": [
    "from scipy.spatial.distance import pdist, squareform\n",
    "\n",
    "user_dist = pdist(data, metric='jaccard')\n",
    "user_sim_matrix = squareform(user_dist)\n",
    "\n",
    "movie_dist = pdist(data.T, metric='jaccard')\n",
    "movie_sim_matrix = squareform(movie_dist)\n"
   ]
  },
  {
   "cell_type": "code",
   "execution_count": 5,
   "metadata": {},
   "outputs": [
    {
     "name": "stdout",
     "output_type": "stream",
     "text": [
      "True\n",
      "True\n"
     ]
    },
    {
     "data": {
      "text/plain": [
       "3.6555282643655507"
      ]
     },
     "execution_count": 5,
     "metadata": {},
     "output_type": "execute_result"
    }
   ],
   "source": [
    "pi_hat = data / data.sum()\n",
    "\n",
    "mu_hat = pi_hat.sum(axis = 1)\n",
    "nu_hat = pi_hat.sum(axis = 0)\n",
    "\n",
    "G = user_sim_matrix\n",
    "D = movie_sim_matrix\n",
    "\n",
    "lambd = 1e-3\n",
    "ratings_non_zero = np.nan_to_num(ratings_train)\n",
    "M = ratings_non_zero\n",
    "\n",
    "Gs = ot.sinkhorn(mu_hat, nu_hat, M, lambd)\n",
    "print(np.allclose(Gs.sum(axis=1), mu_hat))\n",
    "print(np.allclose(Gs.sum(axis=0), nu_hat))\n",
    "\n",
    "epsilon = 0.01\n",
    "\n",
    "alpha,beta,c = cost_learning(pi_hat,mu_hat,nu_hat,epsilon,G, D, steps=2)\n",
    "otm = ot.emd(data.sum(axis=1), data.sum(axis=0), c)\n",
    "otm_scores = transform_to_integers(otm_scores)\n",
    "compute_rmse(otm_scores, ratings_train)\n"
   ]
  },
  {
   "cell_type": "code",
   "execution_count": 14,
   "metadata": {},
   "outputs": [
    {
     "data": {
      "text/plain": [
       "3.6555282643655507"
      ]
     },
     "execution_count": 14,
     "metadata": {},
     "output_type": "execute_result"
    }
   ],
   "source": [
    "otm = ot.emd(data.sum(axis=1), data.sum(axis=0), c)\n",
    "otm_scores = transform_to_integers(otm)\n",
    "compute_rmse(otm_scores, ratings_train)\n"
   ]
  },
  {
   "cell_type": "code",
   "execution_count": 27,
   "metadata": {},
   "outputs": [
    {
     "data": {
      "text/plain": [
       "<BarContainer object of 301 artists>"
      ]
     },
     "execution_count": 27,
     "metadata": {},
     "output_type": "execute_result"
    },
    {
     "data": {
      "image/png": "[encoded data removed]",
      "text/plain": [
       "<Figure size 640x480 with 1 Axes>"
      ]
     },
     "metadata": {},
     "output_type": "display_data"
    }
   ],
   "source": [
    "uniques, counts = np.unique(otm, return_counts=True)\n",
    "fig, ax = plt.subplots()\n",
    "ax.set_yscale('log')\n",
    "plt.bar(range(len(uniques)), counts)\n"
   ]
  },
  {
   "cell_type": "code",
   "execution_count": 12,
   "metadata": {},
   "outputs": [
    {
     "data": {
      "text/plain": [
       "array([[-7.97695394e+00, -2.10188601e+00,  1.07770576e-01, ...,\n",
       "        -1.35815229e-01,  3.20606947e-02, -2.14741468e-01],\n",
       "       [ 1.76985947e+00,  1.48055046e+00,  1.20732131e-01, ...,\n",
       "         2.63339893e+00, -7.79154843e-04, -2.51146521e-01],\n",
       "       [ 2.12626481e-01, -9.94140011e-01,  1.26396084e+00, ...,\n",
       "         1.25013516e-02, -1.78872817e-02,  3.92130240e-03],\n",
       "       ...,\n",
       "       [ 4.00771812e+00, -1.61247042e+00,  1.95942065e+00, ...,\n",
       "        -2.76294993e-01, -4.22312211e-02,  7.12195886e-02],\n",
       "       [-2.51284810e+01, -5.81829945e-02,  2.38848719e+00, ...,\n",
       "         7.86652615e-01, -1.07853024e-02, -1.04604602e-01],\n",
       "       [ 7.53894932e-01,  1.93413992e+00,  5.33340435e-01, ...,\n",
       "         1.34839898e+00, -1.25116231e-01, -2.64566278e-01]])"
      ]
     },
     "execution_count": 12,
     "metadata": {},
     "output_type": "execute_result"
    }
   ],
   "source": [
    "c*1000\n"
   ]
  },
  {
   "cell_type": "code",
   "execution_count": 22,
   "metadata": {},
   "outputs": [
    {
     "data": {
      "text/plain": [
       "(array([  0. ,   0.5,   1. ,   1.5,   2. ,   2.5,   3. ,   3.5,   4. ,\n",
       "          4.5,   5. ,   5.5,   6. ,   6.5,   7. ,   7.5,   8. ,   8.5,\n",
       "          9. ,   9.5,  10. ,  10.5,  11. ,  11.5,  12. ,  12.5,  13. ,\n",
       "         13.5,  14. ,  14.5,  15. ,  15.5,  16. ,  16.5,  17. ,  17.5,\n",
       "         18. ,  18.5,  19. ,  19.5,  20. ,  20.5,  21. ,  21.5,  22. ,\n",
       "         22.5,  23. ,  23.5,  24. ,  24.5,  25. ,  25.5,  26. ,  26.5,\n",
       "         27. ,  27.5,  28. ,  28.5,  29. ,  29.5,  30. ,  30.5,  31. ,\n",
       "         31.5,  32. ,  32.5,  33. ,  33.5,  34. ,  34.5,  35. ,  35.5,\n",
       "         36. ,  36.5,  37. ,  37.5,  38. ,  38.5,  39. ,  39.5,  40. ,\n",
       "         40.5,  41. ,  41.5,  42. ,  42.5,  43. ,  43.5,  44. ,  44.5,\n",
       "         45. ,  45.5,  46. ,  46.5,  47. ,  47.5,  48. ,  48.5,  49. ,\n",
       "         49.5,  50. ,  50.5,  51. ,  51.5,  52. ,  52.5,  53. ,  53.5,\n",
       "         54. ,  54.5,  55. ,  55.5,  56. ,  56.5,  57. ,  57.5,  58. ,\n",
       "         58.5,  59. ,  59.5,  60. ,  60.5,  61. ,  61.5,  62. ,  62.5,\n",
       "         63. ,  63.5,  64. ,  64.5,  65. ,  65.5,  66. ,  66.5,  67. ,\n",
       "         67.5,  68. ,  68.5,  69. ,  69.5,  70.5,  71. ,  71.5,  72. ,\n",
       "         72.5,  73. ,  73.5,  74. ,  74.5,  75. ,  75.5,  76. ,  76.5,\n",
       "         77. ,  77.5,  78. ,  78.5,  79. ,  79.5,  80. ,  80.5,  81. ,\n",
       "         81.5,  82. ,  82.5,  83. ,  83.5,  84. ,  84.5,  85. ,  85.5,\n",
       "         86. ,  86.5,  87.5,  88.5,  89.5,  90. ,  90.5,  91. ,  91.5,\n",
       "         92. ,  92.5,  93. ,  93.5,  94. ,  94.5,  95.5,  96. ,  96.5,\n",
       "         97. ,  97.5,  98. ,  98.5,  99. , 101. , 101.5, 103. , 104. ,\n",
       "        104.5, 105. , 106. , 106.5, 107. , 107.5, 109. , 109.5, 110. ,\n",
       "        111. , 111.5, 113.5, 114.5, 115.5, 116. , 116.5, 117. , 118. ,\n",
       "        119.5, 121.5, 122. , 122.5, 123.5, 126. , 128. , 128.5, 129. ,\n",
       "        129.5, 131. , 131.5, 132.5, 133. , 134. , 134.5, 135. , 137. ,\n",
       "        138.5, 139.5, 140. , 140.5, 141.5, 142. , 143. , 145. , 146. ,\n",
       "        149. , 150.5, 151.5, 152.5, 153. , 153.5, 155.5, 158. , 158.5,\n",
       "        159.5, 164. , 164.5, 166. , 166.5, 167. , 168. , 169. , 173. ,\n",
       "        177. , 180.5, 184. , 186.5, 187. , 190. , 192.5, 193.5, 196.5,\n",
       "        199.5, 201. , 204. , 205.5, 206. , 210.5, 211. , 214. , 215. ,\n",
       "        217.5, 220.5, 224.5, 228. , 235.5, 236.5, 237. , 240.5, 247.5,\n",
       "        248.5, 252.5, 256. , 257. , 264.5, 268.5, 273.5, 276. , 277.5,\n",
       "        281.5, 282. , 298. , 306.5, 313.5, 383.5, 424. ]),\n",
       " array([3032213,      52,      66,      58,     165,     110,     343,\n",
       "            235,     345,     166,     180,      78,     157,     113,\n",
       "            162,     143,     164,     107,     121,      76,      90,\n",
       "             73,      74,      71,      87,      74,      86,      51,\n",
       "             58,      47,      54,      50,      46,      46,      48,\n",
       "             46,      49,      27,      48,      36,      33,      39,\n",
       "             25,      41,      31,      29,      29,      32,      27,\n",
       "             24,      28,      31,      27,      27,      36,      28,\n",
       "             14,      20,      25,       9,      19,      23,      17,\n",
       "             16,      21,      23,      27,      16,      19,      18,\n",
       "             17,      13,      13,      12,      17,      17,      11,\n",
       "             12,      12,      14,       9,      10,      10,      16,\n",
       "              9,      15,      17,       3,       8,       9,      13,\n",
       "             14,      13,      12,       3,      16,       9,       6,\n",
       "             15,       6,      10,       8,       8,       1,       8,\n",
       "             11,       7,       5,       7,      11,       4,       2,\n",
       "              1,       1,       7,       5,       7,       2,       6,\n",
       "              4,       5,       6,       3,       4,       3,       2,\n",
       "              7,       5,       5,       3,       5,       6,       4,\n",
       "              4,       4,       4,       6,       3,       4,       4,\n",
       "              3,       2,       8,       1,       2,       2,       4,\n",
       "              3,       6,       5,       1,       1,       2,       3,\n",
       "              3,       2,       2,       3,       2,       1,       2,\n",
       "              2,       3,       2,       4,       5,       2,       4,\n",
       "              1,       1,       1,       2,       2,       2,       2,\n",
       "              1,       3,       3,       3,       2,       2,       1,\n",
       "              3,       1,       3,       1,       6,       2,       1,\n",
       "              2,       3,       2,       1,       1,       4,       2,\n",
       "              1,       2,       1,       2,       3,       1,       1,\n",
       "              1,       1,       2,       2,       1,       1,       2,\n",
       "              2,       1,       3,       1,       1,       2,       2,\n",
       "              1,       2,       2,       1,       1,       1,       3,\n",
       "              2,       1,       2,       2,       2,       2,       1,\n",
       "              2,       2,       2,       1,       1,       1,       1,\n",
       "              1,       2,       2,       1,       1,       1,       2,\n",
       "              1,       1,       1,       1,       1,       1,       1,\n",
       "              1,       2,       1,       1,       1,       2,       1,\n",
       "              3,       1,       1,       2,       1,       1,       1,\n",
       "              1,       1,       1,       1,       1,       1,       1,\n",
       "              1,       1,       1,       1,       1,       1,       1,\n",
       "              1,       1,       1,       1,       1,       1,       1,\n",
       "              1,       1,       1,       1,       1,       1,       1,\n",
       "              1,       1,       1,       1,       1,       1,       1,\n",
       "              1,       1,       1]))"
      ]
     },
     "execution_count": 22,
     "metadata": {},
     "output_type": "execute_result"
    }
   ],
   "source": [
    "np.unique(otm, return_counts=True)\n"
   ]
  },
  {
   "cell_type": "code",
   "execution_count": 21,
   "metadata": {},
   "outputs": [
    {
     "data": {
      "image/png": "[encoded data removed]",
      "text/plain": [
       "<Figure size 1600x200 with 1 Axes>"
      ]
     },
     "metadata": {},
     "output_type": "display_data"
    }
   ],
   "source": [
    "import ot.plot\n",
    "import matplotlib.pyplot as plt\n",
    "\n",
    "plt.matshow(otm, cmap='hot')\n",
    "plt.show()\n"
   ]
  },
  {
   "cell_type": "code",
   "execution_count": 48,
   "metadata": {},
   "outputs": [],
   "source": [
    "import os\n",
    "import sys\n",
    "module_path = os.path.abspath(os.path.join('..'))\n",
    "if module_path not in sys.path:\n",
    "    sys.path.append(module_path)\n",
    "from jm.SolveALS import Solve\n",
    "\n",
    "solver_als = Solve(k=1, mu=0.02, alpha=0.0005, beta=0.0005, train_data=ratings_train, n_steps=50)\n",
    "pred = solver_als.matrix_completion_als()\n",
    "table = solver_als.predict_als()\n"
   ]
  },
  {
   "cell_type": "code",
   "execution_count": 38,
   "metadata": {},
   "outputs": [
    {
     "data": {
      "text/plain": [
       "(array([ 0. ,  0.5,  1. ,  1.5,  2. ,  2.5,  3. ,  3.5,  4. ,  4.5,  5. ,\n",
       "         5.5,  6. ,  6.5,  7. ,  7.5,  8. ,  8.5,  9. ,  9.5, 10. , 10.5,\n",
       "        11. , 11.5]),\n",
       " array([    82,  21311,  45800,  81588, 183963, 351834, 559256, 693809,\n",
       "        590561, 325447, 126645,  39786,  11842,   3513,   1135,    508,\n",
       "           300,    214,    122,     52,     22,      4,      4,      2]))"
      ]
     },
     "execution_count": 38,
     "metadata": {},
     "output_type": "execute_result"
    }
   ],
   "source": [
    "np.unique(table, return_counts=True)\n"
   ]
  },
  {
   "cell_type": "code",
   "execution_count": 49,
   "metadata": {},
   "outputs": [
    {
     "data": {
      "text/plain": [
       "array([ 0.,  1.,  2.,  3.,  4.,  5.,  6.,  7.,  8.,  9., 10., 11.])"
      ]
     },
     "execution_count": 49,
     "metadata": {},
     "output_type": "execute_result"
    }
   ],
   "source": [
    "np.unique(np.around((solver_als.I_2@solver_als.U_2.T), 0))\n"
   ]
  },
  {
   "cell_type": "code",
   "execution_count": 47,
   "metadata": {},
   "outputs": [
    {
     "data": {
      "text/plain": [
       "11.469012321466183"
      ]
     },
     "execution_count": 47,
     "metadata": {},
     "output_type": "execute_result"
    }
   ],
   "source": [
    "(solver_als.I_2@solver_als.U_2.T).max()\n"
   ]
  },
  {
   "cell_type": "code",
   "execution_count": 39,
   "metadata": {},
   "outputs": [
    {
     "data": {
      "text/plain": [
       "0.7649909079913629"
      ]
     },
     "execution_count": 39,
     "metadata": {},
     "output_type": "execute_result"
    }
   ],
   "source": [
    "compute_rmse(table, ratings_train)\n"
   ]
  }
 ],
 "metadata": {
  "kernelspec": {
   "display_name": "Python 3",
   "language": "python",
   "name": "python3"
  },
  "language_info": {
   "codemirror_mode": {
    "name": "ipython",
    "version": 3
   },
   "file_extension": ".py",
   "mimetype": "text/x-python",
   "name": "python",
   "nbconvert_exporter": "python",
   "pygments_lexer": "ipython3",
   "version": "3.10.11"
  }
 },
 "nbformat": 4,
 "nbformat_minor": 2
}
