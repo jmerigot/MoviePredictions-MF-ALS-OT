{
 "cells": [
  {
   "cell_type": "code",
   "execution_count": 2,
   "metadata": {},
   "outputs": [],
   "source": [
    "import numpy as np"
   ]
  },
  {
   "cell_type": "code",
   "execution_count": 3,
   "metadata": {},
   "outputs": [],
   "source": [
    "ratings_train = np.load('../datasets/ratings_train.npy')\n",
    "m,n = ratings_train.shape\n",
    "data = np.nan_to_num(ratings_train)"
   ]
  },
  {
   "cell_type": "code",
   "execution_count": 4,
   "metadata": {},
   "outputs": [],
   "source": [
    "pi_hat = data / data.sum()\n",
    "mu_hat = pi_hat.sum(axis = 1)\n",
    "nu_hat = pi_hat.sum(axis = 0)"
   ]
  },
  {
   "cell_type": "code",
   "execution_count": 5,
   "metadata": {},
   "outputs": [],
   "source": [
    "import math\n",
    "\n",
    "\n",
    "def regularization(c,l):\n",
    "    return l*np.power(np.linalg.norm(c),2)/2\n",
    "\n",
    "def gradient_ridge_reg(c,c_hat,gamma,l):\n",
    "    return l*c + (c - c_hat)/gamma\n",
    "\n",
    "\n",
    "\n",
    "def compute_prox(c_hat, h_prox, x0, iterations = 100, gamma = 0.01, epsilon = 0.01,l = 0.01): #h is the non-differentiable function\n",
    "    xk = x0\n",
    "    gk = np.power(np.linalg.norm(xk-c_hat),2)/(2*gamma)\n",
    "    for _ in range(iterations):\n",
    "        xk_old = xk\n",
    "        # compute gradient for differentiable  part of function\n",
    "        gk_gradient = gradient_ridge_reg(xk,c_hat,gamma,l)\n",
    "        # take gradient step to reduce g(x)\n",
    "        xk_gradient = xk - gamma * gk_gradient\n",
    "        # proximal update to reduce h(x) but stay close to xk_gradient\n",
    "        xk = xk_gradient #Change if h is constraining function\n",
    "\n",
    "        if np.linalg.norm(xk - xk_old) < epsilon:\n",
    "            return xk\n",
    "\n",
    "    return xk\n",
    "\n",
    "def current_h(x,gamma):\n",
    "    return 0\n",
    "\n",
    "\n",
    "def cost_learning(pi_hat,mu,nu,epsilon,steps = 100):\n",
    "    m,n = pi_hat.shape\n",
    "    alpha = np.random.rand(m,1)\n",
    "    beta = np.random.rand(n,1)\n",
    "    u = np.exp(alpha / epsilon)\n",
    "    v = np.exp(beta / epsilon)\n",
    "    c = np.random.rand(m,n)\n",
    "    for i in range(steps):\n",
    "        K = np.exp(-c/epsilon)\n",
    "        kv = np.dot(K,v).reshape(m,1)\n",
    "        u = np.divide(mu.reshape(1,m),kv.reshape(1,m)).reshape(m,1)\n",
    "        ktu = np.dot(K.T,u).reshape(n,1)\n",
    "        v = np.divide(nu.reshape(1,n),ktu.reshape(1,n)).reshape(n,1)\n",
    "        K = pi_hat / (np.dot(u,v.T))\n",
    "        c = compute_prox(-epsilon*np.log(K),current_h,c)\n",
    "        print(c.shape)\n",
    "    return epsilon*np.log(u),epsilon*np.log(v),c"
   ]
  },
  {
   "cell_type": "code",
   "execution_count": 6,
   "metadata": {},
   "outputs": [
    {
     "name": "stderr",
     "output_type": "stream",
     "text": [
      "C:\\Users\\inane\\AppData\\Local\\Temp\\ipykernel_22060\\2035394243.py:47: RuntimeWarning: divide by zero encountered in log\n",
      "  c = compute_prox(-epsilon*np.log(K),current_h,c)\n",
      "C:\\Users\\inane\\AppData\\Local\\Temp\\ipykernel_22060\\2035394243.py:8: RuntimeWarning: invalid value encountered in subtract\n",
      "  return l*c + (c - c_hat)/gamma\n"
     ]
    },
    {
     "name": "stdout",
     "output_type": "stream",
     "text": [
      "(610, 4980)\n",
      "(610, 4980)\n",
      "(610, 4980)\n",
      "(610, 4980)\n",
      "(610, 4980)\n",
      "(610, 4980)\n",
      "(610, 4980)\n",
      "(610, 4980)\n",
      "(610, 4980)\n",
      "(610, 4980)\n"
     ]
    }
   ],
   "source": [
    "epsilon = 0.01\n",
    "\n",
    "alpha,beta,c = cost_learning(pi_hat,mu_hat,nu_hat,epsilon,steps=10)"
   ]
  },
  {
   "cell_type": "markdown",
   "metadata": {},
   "source": []
  }
 ],
 "metadata": {
  "kernelspec": {
   "display_name": "Python 3",
   "language": "python",
   "name": "python3"
  },
  "language_info": {
   "codemirror_mode": {
    "name": "ipython",
    "version": 3
   },
   "file_extension": ".py",
   "mimetype": "text/x-python",
   "name": "python",
   "nbconvert_exporter": "python",
   "pygments_lexer": "ipython3",
   "version": "3.11.6"
  }
 },
 "nbformat": 4,
 "nbformat_minor": 2
}
