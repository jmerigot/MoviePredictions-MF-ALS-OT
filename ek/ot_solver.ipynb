{
 "cells": [
  {
   "cell_type": "code",
   "execution_count": 68,
   "metadata": {},
   "outputs": [],
   "source": [
    "import numpy as np\n",
    "import pandas as pd\n",
    "import sklearn\n",
    "import ot\n",
    "import matplotlib.pyplot as plt\n",
    "from scipy.optimize import minimize, Bounds\n"
   ]
  },
  {
   "cell_type": "code",
   "execution_count": 3,
   "metadata": {},
   "outputs": [],
   "source": [
    "ratings_train = np.load('../datasets/ratings_train.npy')\n",
    "ratings_test = np.load('../datasets/ratings_test.npy')\n",
    "m,n = ratings_train.shape\n",
    "data = np.nan_to_num(ratings_train)\n",
    "\n",
    "movies_average_rating = np.nanmean(ratings_train, axis=0)\n",
    "users_average_rating = np.nanmean(ratings_train, axis=1)\n",
    "movies_average_rating_normalized = movies_average_rating / movies_average_rating.sum()\n",
    "users_average_rating_normalized = users_average_rating / users_average_rating.sum()\n",
    "\n",
    "movies_total_rating = np.nansum(ratings_train, axis=0)\n",
    "users_total_rating = np.nansum(ratings_train, axis=1)\n",
    "users_normalized_total_rating = users_total_rating / users_total_rating.sum()\n",
    "movies_normalized_total_rating = movies_total_rating / movies_total_rating.sum()\n"
   ]
  },
  {
   "cell_type": "code",
   "execution_count": 100,
   "metadata": {},
   "outputs": [],
   "source": [
    "def regularization(c,l, type='l2'):\n",
    "    if type == 'l2':\n",
    "        return l*np.power(np.linalg.norm(c),2)/2\n",
    "    elif type == 'l1':\n",
    "        return l*np.linalg.norm(c, ord='1')\n",
    "\n",
    "def gradient_ridge_reg(c,c_hat,gamma,l, type='l2'):\n",
    "    if type == 'l2':\n",
    "        return l*c + (c - c_hat)/gamma\n",
    "    if type == 'l1':\n",
    "        return (c - c_hat)/gamma\n",
    "\n",
    "def compute_prox(c_hat, h_prox, x0, iterations = 10, gamma = 0.01, epsilon = 0.001,l = 0.1): #h is the non-differentiable function\n",
    "    xk = x0\n",
    "    gk = np.power(np.linalg.norm(xk-c_hat),2)/(2*gamma)\n",
    "    for i in range(iterations):\n",
    "        xk_old = xk\n",
    "        # compute gradient for differentiable  part of function\n",
    "        gk_gradient = gradient_ridge_reg(xk,c_hat,gamma,l, type='l2')\n",
    "        # take gradient step to reduce g(x)\n",
    "        xk_gradient = xk - gamma * gk_gradient\n",
    "        # proximal update to reduce h(x) but stay close to xk_gradient\n",
    "        xk = xk_gradient #Change if h is constraining function\n",
    "\n",
    "        # print(np.linalg.norm(xk - xk_old))\n",
    "        if np.linalg.norm(xk - xk_old) < epsilon:\n",
    "            print(f'prox gradoent converges in {i} iters')\n",
    "            return xk\n",
    "\n",
    "    return xk\n",
    "\n",
    "def current_h(x,gamma):\n",
    "    return 0\n",
    "\n",
    "def function_to_optimize(c_hat, x, gamma):\n",
    "    m = c_hat.shape[0]\n",
    "    n = c_hat.shape[1]\n",
    "    x = x.reshape((m,n))\n",
    "    return np.linalg.norm(x-c_hat)/(2*gamma)\n",
    "\n",
    "def cost_learning(data, pi_hat,mu,nu,epsilon,G, D, steps = 100):\n",
    "    m,n = pi_hat.shape\n",
    "    alpha = np.random.rand(m,1)\n",
    "    beta = np.random.rand(n,1)\n",
    "    u = np.exp(alpha / epsilon)\n",
    "    v = np.exp(beta / epsilon)\n",
    "    c = data\n",
    "    \n",
    "    G_inv = np.linalg.pinv(G)\n",
    "    D_inv = np.linalg.pinv(D)\n",
    "\n",
    "    A = np.random.rand(G_inv.shape[1], D_inv.shape[1])\n",
    "    \n",
    "    c_s = []\n",
    "    \n",
    "    for i in range(steps):\n",
    "        print(i)\n",
    "        K = np.exp(-c/epsilon)\n",
    "        kv = np.dot(K,v).reshape(m,1)\n",
    "        u = np.divide(mu.reshape(1,m),kv.reshape(1,m)).reshape(m,1)\n",
    "        ktu = np.dot(K.T,u).reshape(n,1)\n",
    "        v = np.divide(nu.reshape(1,n),ktu.reshape(1,n)).reshape(n,1)\n",
    "        K = pi_hat / (np.dot(u,v.T))\n",
    "        log_k = np.log(K, out=np.zeros_like(K), where=(K!=0))\n",
    "        A_deomposed = G_inv.T@log_k@D_inv\n",
    "        A = compute_prox(-epsilon*A_deomposed,current_h,A)\n",
    "        # res = minimize(lambda x: function_to_optimize(c_hat=-epsilon*A_deomposed, x=x, gamma=.01), A.flatten(), bounds=Bounds(lb=1e-6))\n",
    "        # A = res.x.reshape(A_deomposed.shape)\n",
    "        c = G.T@A@D\n",
    "        # c = np.log(1 + np.exp(c))\n",
    "        #c_s.append(c)\n",
    "        #c = compute_prox(-epsilon*log_k,current_h,c)\n",
    "        # if np.linalg.norm(c - c_s[-1]) < epsilon:\n",
    "            # print(f'Cs equivalent in iteration {i}')\n",
    "\n",
    "\n",
    "    return epsilon*np.log(u),epsilon*np.log(v),c\n",
    "\n",
    "\n",
    "def transform_to_integers(matrix):\n",
    "    num_intervals = 10\n",
    "    min_value = matrix.min()\n",
    "    max_value = matrix.max()\n",
    "\n",
    "    # Calculate the interval width\n",
    "    interval_width = (max_value - min_value) / num_intervals\n",
    "\n",
    "    # Map the values to integers between 1 and 10\n",
    "    transformed_matrix = ((matrix - min_value) / interval_width).clip(0, num_intervals).astype(int) / 2\n",
    "\n",
    "    return transformed_matrix\n",
    "\n",
    "\n",
    "def compute_rmse(predictions, test_matrix):\n",
    "  masked = np.ma.array(test_matrix, mask=np.isnan(test_matrix))\n",
    "  masked_preds = np.ma.array(predictions, mask=np.isnan(predictions))\n",
    "  diff = np.ma.subtract(masked_preds, masked)\n",
    "  squared = np.ma.power(diff, 2)\n",
    "  return np.ma.sqrt(np.ma.mean(squared))\n"
   ]
  },
  {
   "cell_type": "code",
   "execution_count": 105,
   "metadata": {},
   "outputs": [],
   "source": [
    "from scipy.spatial.distance import pdist, squareform\n",
    "from sklearn.decomposition import PCA\n",
    "\n",
    "pca = PCA(n_components=10)\n",
    "\n",
    "user_dist = pdist(data, metric='jaccard')\n",
    "user_sim_matrix = squareform(user_dist)\n",
    "W = pca.fit_transform(user_sim_matrix)\n",
    "\n",
    "movie_dist = pdist(data.T, metric='jaccard')\n",
    "movie_sim_matrix = squareform(movie_dist)\n",
    "H = pca.fit_transform(movie_sim_matrix)\n"
   ]
  },
  {
   "cell_type": "code",
   "execution_count": 5,
   "metadata": {},
   "outputs": [
    {
     "name": "stderr",
     "output_type": "stream",
     "text": [
      "/Users/ellington/opt/anaconda3/envs/pytorch/lib/python3.10/site-packages/sklearn/decomposition/_nmf.py:1665: ConvergenceWarning: Maximum number of iterations 200 reached. Increase it to improve convergence.\n",
      "  warnings.warn(\n"
     ]
    }
   ],
   "source": [
    "from sklearn.decomposition import NMF\n",
    "import scipy.sparse as sps\n",
    "\n",
    "csr_ratings_train = sps.csr_matrix(np.nan_to_num(ratings_train), shape=(610, 4980))\n",
    "csr_ratings_train.eliminate_zeros()\n",
    "\n",
    "nmf = NMF(n_components=10, init='nndsvd', random_state=0, max_iter=200)\n",
    "W = nmf.fit_transform(csr_ratings_train)\n",
    "H = nmf.components_\n"
   ]
  },
  {
   "cell_type": "code",
   "execution_count": 101,
   "metadata": {},
   "outputs": [
    {
     "data": {
      "text/plain": [
       "0.21682584729918158"
      ]
     },
     "execution_count": 101,
     "metadata": {},
     "output_type": "execute_result"
    }
   ],
   "source": [
    "np.nan_to_num(ratings_train)[0,2]\n",
    "W[0,2]\n",
    "H[0,2]\n",
    "(W@H)[0,2]\n"
   ]
  },
  {
   "cell_type": "code",
   "execution_count": 95,
   "metadata": {},
   "outputs": [
    {
     "name": "stdout",
     "output_type": "stream",
     "text": [
      "0\n",
      "prox gradoent converges in 2 iters\n",
      "1\n",
      "prox gradoent converges in 1 iters\n",
      "2\n",
      "prox gradoent converges in 1 iters\n",
      "3\n",
      "prox gradoent converges in 1 iters\n",
      "4\n",
      "prox gradoent converges in 1 iters\n",
      "5\n",
      "prox gradoent converges in 1 iters\n",
      "6\n",
      "prox gradoent converges in 1 iters\n",
      "7\n",
      "prox gradoent converges in 1 iters\n",
      "8\n",
      "prox gradoent converges in 1 iters\n",
      "9\n",
      "prox gradoent converges in 1 iters\n"
     ]
    }
   ],
   "source": [
    "data = np.nan_to_num(ratings_train)\n",
    "pi_hat = data / data.sum()\n",
    "\n",
    "mu_hat = pi_hat.sum(axis = 1)\n",
    "nu_hat = pi_hat.sum(axis = 0)\n",
    "\n",
    "G = W.T\n",
    "D = H\n",
    "# G = user_sim_matrix\n",
    "# D = movie_sim_matrix\n",
    "\n",
    "lambd = 1e-3\n",
    "Gs = ot.sinkhorn(mu_hat, nu_hat, data, lambd)\n",
    "\n",
    "epsilon = .01\n",
    "\n",
    "alpha,beta,c = cost_learning(data, pi_hat, mu_hat, nu_hat, epsilon, G, D, steps=10)\n"
   ]
  },
  {
   "cell_type": "code",
   "execution_count": 102,
   "metadata": {},
   "outputs": [
    {
     "name": "stdout",
     "output_type": "stream",
     "text": [
      "1.168859966968312\n",
      "1.179335278115917\n"
     ]
    }
   ],
   "source": [
    "# otm = ot.emd(data.sum(axis=1), data.sum(axis=0), c, numItermax=1000000)\n",
    "otm_scores = transform_to_integers(c)\n",
    "print(compute_rmse(otm_scores, ratings_train))\n",
    "print(compute_rmse(otm_scores, ratings_test))\n"
   ]
  },
  {
   "cell_type": "code",
   "execution_count": 104,
   "metadata": {},
   "outputs": [
    {
     "data": {
      "text/plain": [
       "[<matplotlib.lines.Line2D at 0x7fc9fea397b0>]"
      ]
     },
     "execution_count": 104,
     "metadata": {},
     "output_type": "execute_result"
    },
    {
     "data": {
      "image/png": "[encoded data removed]",
      "text/plain": [
       "<Figure size 640x480 with 1 Axes>"
      ]
     },
     "metadata": {},
     "output_type": "display_data"
    }
   ],
   "source": [
    "flattened = c.flatten()\n",
    "flattened.sort()\n",
    "plt.plot(range(len(flattened)), flattened)\n"
   ]
  },
  {
   "cell_type": "code",
   "execution_count": 103,
   "metadata": {},
   "outputs": [
    {
     "data": {
      "text/plain": [
       "[<matplotlib.lines.Line2D at 0x7fca342ac370>]"
      ]
     },
     "execution_count": 103,
     "metadata": {},
     "output_type": "execute_result"
    },
    {
     "data": {
      "image/png": "[encoded data removed]",
      "text/plain": [
       "<Figure size 640x480 with 1 Axes>"
      ]
     },
     "metadata": {},
     "output_type": "display_data"
    }
   ],
   "source": [
    "flattened = otm_scores.flatten()\n",
    "flattened.sort()\n",
    "plt.plot(range(len(flattened)), flattened)\n"
   ]
  },
  {
   "cell_type": "code",
   "execution_count": 86,
   "metadata": {},
   "outputs": [
    {
     "name": "stdout",
     "output_type": "stream",
     "text": [
      "0.46311835504720006\n"
     ]
    }
   ],
   "source": [
    "print(np.linalg.norm(c))\n"
   ]
  },
  {
   "cell_type": "code",
   "execution_count": 32,
   "metadata": {},
   "outputs": [
    {
     "data": {
      "text/plain": [
       "(610, 4980)"
      ]
     },
     "execution_count": 32,
     "metadata": {},
     "output_type": "execute_result"
    }
   ],
   "source": [
    "np.unique(otm_scores, return_counts=True)\n"
   ]
  }
 ],
 "metadata": {
  "kernelspec": {
   "display_name": "pytorch",
   "language": "python",
   "name": "python3"
  },
  "language_info": {
   "codemirror_mode": {
    "name": "ipython",
    "version": 3
   },
   "file_extension": ".py",
   "mimetype": "text/x-python",
   "name": "python",
   "nbconvert_exporter": "python",
   "pygments_lexer": "ipython3",
   "version": "3.10.11"
  }
 },
 "nbformat": 4,
 "nbformat_minor": 2
}
