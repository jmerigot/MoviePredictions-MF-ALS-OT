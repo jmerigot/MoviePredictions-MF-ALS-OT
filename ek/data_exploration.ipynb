{
 "cells": [
  {
   "cell_type": "code",
   "execution_count": 4,
   "metadata": {},
   "outputs": [],
   "source": [
    "import numpy as np\n",
    "import pandas as pd\n",
    "import sklearn\n",
    "import ot\n"
   ]
  },
  {
   "cell_type": "code",
   "execution_count": 512,
   "metadata": {},
   "outputs": [],
   "source": [
    "names_genre = np.load('../datasets/namesngenre.npy')\n",
    "ratings_train = np.load('../datasets/ratings_train.npy')\n",
    "\n",
    "df_titles = pd.DataFrame(names_genre)\n",
    "df_titles= df_titles.rename(columns={0:\"title\",1:\"genre\"})\n",
    "df_titles['average_rating'] = np.nanmean(ratings_train, axis=0)\n",
    "\n",
    "df_ratings = pd.DataFrame(np.nan_to_num(ratings_train.T))\n"
   ]
  },
  {
   "cell_type": "code",
   "execution_count": 511,
   "metadata": {},
   "outputs": [
    {
     "data": {
      "text/plain": [
       "<BarContainer object of 11 artists>"
      ]
     },
     "execution_count": 511,
     "metadata": {},
     "output_type": "execute_result"
    },
    {
     "data": {
      "image/png": "[encoded data removed]",
      "text/plain": [
       "<Figure size 640x480 with 1 Axes>"
      ]
     },
     "metadata": {},
     "output_type": "display_data"
    }
   ],
   "source": [
    "import matplotlib.pyplot as plt\n",
    "fig, ax = plt.subplots()\n",
    "ax.set_yscale('log')\n",
    "result = df_ratings.apply(pd.value_counts).sum(axis=1)\n",
    "plt.bar(height=result.tolist(), x=range(0, 11), )\n"
   ]
  },
  {
   "cell_type": "code",
   "execution_count": 5,
   "metadata": {},
   "outputs": [
    {
     "data": {
      "text/html": [
       "<div>\n",
       "<style scoped>\n",
       "    .dataframe tbody tr th:only-of-type {\n",
       "        vertical-align: middle;\n",
       "    }\n",
       "\n",
       "    .dataframe tbody tr th {\n",
       "        vertical-align: top;\n",
       "    }\n",
       "\n",
       "    .dataframe thead th {\n",
       "        text-align: right;\n",
       "    }\n",
       "</style>\n",
       "<table border=\"1\" class=\"dataframe\">\n",
       "  <thead>\n",
       "    <tr style=\"text-align: right;\">\n",
       "      <th></th>\n",
       "      <th>title</th>\n",
       "      <th>genre</th>\n",
       "      <th>average_rating</th>\n",
       "    </tr>\n",
       "  </thead>\n",
       "  <tbody>\n",
       "    <tr>\n",
       "      <th>0</th>\n",
       "      <td>Toy Story (1995)</td>\n",
       "      <td>Adventure|Animation|Children|Comedy|Fantasy</td>\n",
       "      <td>3.854167</td>\n",
       "    </tr>\n",
       "    <tr>\n",
       "      <th>1</th>\n",
       "      <td>Jumanji (1995)</td>\n",
       "      <td>Adventure|Children|Fantasy</td>\n",
       "      <td>3.391892</td>\n",
       "    </tr>\n",
       "    <tr>\n",
       "      <th>2</th>\n",
       "      <td>Grumpier Old Men (1995)</td>\n",
       "      <td>Comedy|Romance</td>\n",
       "      <td>3.029412</td>\n",
       "    </tr>\n",
       "    <tr>\n",
       "      <th>3</th>\n",
       "      <td>Waiting to Exhale (1995)</td>\n",
       "      <td>Comedy|Drama|Romance</td>\n",
       "      <td>2.000000</td>\n",
       "    </tr>\n",
       "    <tr>\n",
       "      <th>4</th>\n",
       "      <td>Father of the Bride Part II (1995)</td>\n",
       "      <td>Comedy</td>\n",
       "      <td>3.000000</td>\n",
       "    </tr>\n",
       "    <tr>\n",
       "      <th>...</th>\n",
       "      <td>...</td>\n",
       "      <td>...</td>\n",
       "      <td>...</td>\n",
       "    </tr>\n",
       "    <tr>\n",
       "      <th>4975</th>\n",
       "      <td>Game Night (2018)</td>\n",
       "      <td>Action|Comedy|Crime|Horror</td>\n",
       "      <td>4.500000</td>\n",
       "    </tr>\n",
       "    <tr>\n",
       "      <th>4976</th>\n",
       "      <td>Making a Murderer (2015)</td>\n",
       "      <td>Crime|Documentary</td>\n",
       "      <td>3.500000</td>\n",
       "    </tr>\n",
       "    <tr>\n",
       "      <th>4977</th>\n",
       "      <td>Elsa &amp; Fred (2005)</td>\n",
       "      <td>Comedy|Drama|Romance</td>\n",
       "      <td>3.750000</td>\n",
       "    </tr>\n",
       "    <tr>\n",
       "      <th>4978</th>\n",
       "      <td>Tomb Raider (2018)</td>\n",
       "      <td>Action|Adventure|Fantasy</td>\n",
       "      <td>3.500000</td>\n",
       "    </tr>\n",
       "    <tr>\n",
       "      <th>4979</th>\n",
       "      <td>Fred Armisen: Standup for Drummers (2018)</td>\n",
       "      <td>Comedy</td>\n",
       "      <td>3.000000</td>\n",
       "    </tr>\n",
       "  </tbody>\n",
       "</table>\n",
       "<p>4980 rows × 3 columns</p>\n",
       "</div>"
      ],
      "text/plain": [
       "                                          title  \\\n",
       "0                              Toy Story (1995)   \n",
       "1                                Jumanji (1995)   \n",
       "2                       Grumpier Old Men (1995)   \n",
       "3                      Waiting to Exhale (1995)   \n",
       "4            Father of the Bride Part II (1995)   \n",
       "...                                         ...   \n",
       "4975                          Game Night (2018)   \n",
       "4976                   Making a Murderer (2015)   \n",
       "4977                         Elsa & Fred (2005)   \n",
       "4978                         Tomb Raider (2018)   \n",
       "4979  Fred Armisen: Standup for Drummers (2018)   \n",
       "\n",
       "                                            genre  average_rating  \n",
       "0     Adventure|Animation|Children|Comedy|Fantasy        3.854167  \n",
       "1                      Adventure|Children|Fantasy        3.391892  \n",
       "2                                  Comedy|Romance        3.029412  \n",
       "3                            Comedy|Drama|Romance        2.000000  \n",
       "4                                          Comedy        3.000000  \n",
       "...                                           ...             ...  \n",
       "4975                   Action|Comedy|Crime|Horror        4.500000  \n",
       "4976                            Crime|Documentary        3.500000  \n",
       "4977                         Comedy|Drama|Romance        3.750000  \n",
       "4978                     Action|Adventure|Fantasy        3.500000  \n",
       "4979                                       Comedy        3.000000  \n",
       "\n",
       "[4980 rows x 3 columns]"
      ]
     },
     "execution_count": 5,
     "metadata": {},
     "output_type": "execute_result"
    }
   ],
   "source": [
    "df_titles\n"
   ]
  },
  {
   "cell_type": "code",
   "execution_count": 36,
   "metadata": {},
   "outputs": [
    {
     "name": "stdout",
     "output_type": "stream",
     "text": [
      "Loss at iter 1: 75260319.25000001\n",
      "Loss at iter 2: 154642270.36136588\n",
      "Loss at iter 3: 11290888.961708253\n",
      "Loss at iter 4: 36404596.01274762\n",
      "Loss at iter 5: 45976966.429942794\n",
      "Loss at iter 6: 901976.8269470352\n",
      "Loss at iter 7: 713172.9266354559\n",
      "Loss at iter 8: 614229.9928827544\n",
      "Loss at iter 9: 555428.3194980763\n",
      "Loss at iter 10: 517548.4846874105\n",
      "Loss at iter 11: 491729.86250796606\n",
      "Loss at iter 12: 473381.9041521768\n",
      "Loss at iter 13: 459917.6932891711\n",
      "Loss at iter 14: 449783.18890945805\n",
      "Loss at iter 15: 441996.52855142334\n",
      "Loss at iter 16: 435911.4525654649\n",
      "Loss at iter 17: 431087.93759985274\n",
      "Loss at iter 18: 427217.7203002306\n",
      "Loss at iter 19: 424079.53699068114\n",
      "Loss at iter 20: 421511.2206442733\n",
      "Loss at iter 21: 419391.74905552744\n",
      "Loss at iter 22: 417629.3728212019\n",
      "Loss at iter 23: 416153.57105035346\n",
      "Loss at iter 24: 414909.48162030673\n",
      "Loss at iter 25: 413853.96934728243\n",
      "Loss at iter 26: 412952.8014925792\n",
      "Loss at iter 27: 412178.5863619699\n",
      "Loss at iter 28: 411509.2470082209\n",
      "Loss at iter 29: 410926.8761892478\n",
      "Loss at iter 30: 410416.8669749791\n",
      "Loss at iter 31: 409967.24536111316\n",
      "Loss at iter 32: 409568.152785832\n",
      "Loss at iter 33: 409211.44118312886\n",
      "Loss at iter 34: 408890.3534359118\n",
      "Loss at iter 35: 408599.2692875272\n",
      "Loss at iter 36: 408333.50189502706\n",
      "Loss at iter 37: 408089.133900272\n",
      "Loss at iter 38: 407862.8845853345\n",
      "Loss at iter 39: 407652.0016593511\n",
      "Loss at iter 40: 407454.1726965751\n",
      "Loss at iter 41: 407267.45235062204\n",
      "Loss at iter 42: 407090.2023068176\n",
      "Loss at iter 43: 406921.04157371644\n",
      "Loss at iter 44: 406758.80520693655\n",
      "Loss at iter 45: 406602.50994020177\n",
      "Loss at iter 46: 406451.3254968157\n",
      "Loss at iter 47: 406304.55058950756\n",
      "Loss at iter 48: 406161.592802492\n",
      "Loss at iter 49: 406021.9516976803\n",
      "Loss at iter 50: 405885.2046056831\n",
      "Loss at iter 51: 405750.9946578414\n",
      "Loss at iter 52: 405619.0206929272\n",
      "Loss at iter 53: 405489.02873511874\n",
      "Loss at iter 54: 405360.8047912687\n",
      "Loss at iter 55: 405234.1687576456\n",
      "Loss at iter 56: 405108.96926103265\n",
      "Loss at iter 57: 404985.07928771264\n",
      "Loss at iter 58: 404862.39247759973\n",
      "Loss at iter 59: 404740.81998047256\n",
      "Loss at iter 60: 404620.28778768645\n",
      "Loss at iter 61: 404500.7344664111\n",
      "Loss at iter 62: 404382.109234908\n",
      "Loss at iter 63: 404264.3703269382\n",
      "Loss at iter 64: 404147.48360144685\n",
      "Loss at iter 65: 404031.4213604471\n",
      "Loss at iter 66: 403916.1613436955\n",
      "Loss at iter 67: 403801.6858735856\n",
      "Loss at iter 68: 403687.9811277098\n",
      "Loss at iter 69: 403575.03651997476\n",
      "Loss at iter 70: 403462.8441740512\n",
      "Loss at iter 71: 403351.39847537567\n",
      "Loss at iter 72: 403240.6956900087\n",
      "Loss at iter 73: 403130.73364040226\n",
      "Loss at iter 74: 403021.51142962766\n",
      "Loss at iter 75: 402913.02920686494\n",
      "Loss at iter 76: 402805.28796805424\n",
      "Loss at iter 77: 402698.2893864884\n",
      "Loss at iter 78: 402592.0356689331\n",
      "Loss at iter 79: 402486.5294334962\n",
      "Loss at iter 80: 402381.7736060404\n",
      "Loss at iter 81: 402277.77133240213\n",
      "Loss at iter 82: 402174.5259040941\n",
      "Loss at iter 83: 402072.0406955041\n",
      "Loss at iter 84: 401970.31911089993\n",
      "Loss at iter 85: 401869.3645398038\n",
      "Loss at iter 86: 401769.1803195101\n",
      "Loss at iter 87: 401669.7697036913\n",
      "Loss at iter 88: 401571.13583621633\n",
      "Loss at iter 89: 401473.2817294044\n",
      "Loss at iter 90: 401376.2102460808\n",
      "Loss at iter 91: 401279.9240848725\n",
      "Loss at iter 92: 401184.4257682738\n",
      "Loss at iter 93: 401089.7176330845\n",
      "Loss at iter 94: 400995.8018228723\n",
      "Loss at iter 95: 400902.6802821675\n",
      "Loss at iter 96: 400810.3547521416\n",
      "Loss at iter 97: 400718.8267675549\n",
      "Loss at iter 98: 400628.0976547902\n",
      "Loss at iter 99: 400538.1685308169\n",
      "Loss at iter 100: 400449.04030295345\n"
     ]
    },
    {
     "data": {
      "text/plain": [
       "0.3630064163361999"
      ]
     },
     "execution_count": 36,
     "metadata": {},
     "output_type": "execute_result"
    }
   ],
   "source": [
    "m = ratings_train.shape[0]\n",
    "n = ratings_train.shape[1]\n",
    "k = 5\n",
    "mu = .1\n",
    "lam = .1\n",
    "step_I = .00007\n",
    "step_U = .00007\n",
    "I = np.ones((m, k))\n",
    "U = np.ones((n, k))\n",
    "R = np.nan_to_num(ratings_train, copy=True)\n",
    "\n",
    "iters = 100\n",
    "\n",
    "for i in range(iters):\n",
    "  loss = np.linalg.norm((R - I@U.T), ord='fro')**2 + mu*np.linalg.norm(I, ord='fro')**2 + lam*np.linalg.norm(U, ord='fro')**2\n",
    "\n",
    "  print(f'Loss at iter {i+1}: {loss}')\n",
    "\n",
    "  grad_U = -2*R.T@I + 2*U@I.T@I + 2*mu*U\n",
    "  grad_I = -2*R@U + 2*I@U.T@U + 2*lam*I\n",
    "\n",
    "  U -= step_U*grad_U\n",
    "  I -= step_I*grad_I\n",
    "\n",
    "\n",
    "rmse = np.sqrt(np.mean((I@U.T-R)**2))\n",
    "rmse\n"
   ]
  },
  {
   "cell_type": "code",
   "execution_count": 46,
   "metadata": {},
   "outputs": [],
   "source": [
    "data_path = '../datasets/'\n",
    "data = np.load(data_path + 'ratings_train.npy')\n",
    "test_data = np.load(data_path + 'ratings_test.npy')\n",
    "\n",
    "step_I = .00007\n",
    "step_U = .00007\n",
    "\n",
    "mu = .1\n",
    "lam = .1\n",
    "\n",
    "K = 5\n",
    "I = np.random.rand(len(data),K) #Generating random matrices, maybe a better initialization can be initialized\n",
    "U = np.random.rand(len(data[0]),K).T\n",
    "\n",
    "\n",
    "non_nan = np.argwhere(~np.isnan(data))\n",
    "\n",
    "for (i, j) in non_nan:\n",
    "  eij = data[i][j] - np.dot(I[i,:],U[:,j])\n",
    "\n",
    "  for k in range(K):\n",
    "    I[i][k] = I[i][k] + step_I * (2 * eij * U[k][j] - mu * I[i][k])\n",
    "    U[k][j] = U[k][j] + step_U * (2 * eij * I[i][k] - lam * U[k][j])\n"
   ]
  },
  {
   "cell_type": "code",
   "execution_count": 3,
   "metadata": {},
   "outputs": [
    {
     "data": {
      "text/plain": [
       "(610, 4980)"
      ]
     },
     "execution_count": 3,
     "metadata": {},
     "output_type": "execute_result"
    }
   ],
   "source": [
    "names_genre = np.load('../datasets/namesngenre.npy')\n",
    "ratings_train = np.load('../datasets/ratings_train.npy')\n",
    "\n",
    "df_titles = pd.DataFrame(names_genre)\n",
    "df_titles= df_titles.rename(columns={0:\"title\",1:\"genre\"})\n",
    "df_titles['average_rating'] = np.nanmean(ratings_train, axis=0)\n",
    "\n",
    "df_ratings = pd.DataFrame(ratings_train)\n",
    "ratings_train.shape\n"
   ]
  },
  {
   "cell_type": "code",
   "execution_count": 71,
   "metadata": {},
   "outputs": [
    {
     "data": {
      "text/plain": [
       "0.9999999999999996"
      ]
     },
     "execution_count": 71,
     "metadata": {},
     "output_type": "execute_result"
    }
   ],
   "source": [
    "temp_non_zerp = np.nan_to_num(ratings_train)\n",
    "u = (temp_non_zerp / temp_non_zerp.sum()).sum(axis=1)\n",
    "v = (temp_non_zerp.T / temp_non_zerp.T.sum()).sum(axis=1)\n"
   ]
  },
  {
   "cell_type": "code",
   "execution_count": 113,
   "metadata": {},
   "outputs": [
    {
     "name": "stdout",
     "output_type": "stream",
     "text": [
      "True\n",
      "True\n"
     ]
    }
   ],
   "source": [
    "import numpy as np\n",
    "import ot\n",
    "\n",
    "lambd = 1e-3\n",
    "temp_non_zerp = np.nan_to_num(ratings_train)\n",
    "u = (temp_non_zerp / temp_non_zerp.sum()).sum(axis=1)\n",
    "v = (temp_non_zerp.T / temp_non_zerp.T.sum()).sum(axis=1)\n",
    "M = temp_non_zerp\n",
    "\n",
    "Gs = ot.sinkhorn(u, v, M, lambd)\n",
    "print(np.allclose(Gs.T.sum(axis=1), v))\n",
    "print(np.allclose(Gs.sum(axis=1), u))\n"
   ]
  },
  {
   "cell_type": "code",
   "execution_count": 542,
   "metadata": {},
   "outputs": [],
   "source": [
    "pi_hat = ratings_train / np.nansum(ratings_train)\n",
    "\n",
    "\n",
    "movies_average_rating = np.nanmean(ratings_train, axis=0)\n",
    "users_average_rating = np.nanmean(ratings_train, axis=1)\n",
    "\n",
    "movies_average_rating_normalized = movies_average_rating / movies_average_rating.sum()\n",
    "users_average_rating_normalized = users_average_rating / users_average_rating.sum()\n",
    "\n",
    "movies_total_rating = np.nansum(ratings_train, axis=0)\n",
    "users_total_rating = np.nansum(ratings_train, axis=1)\n",
    "users_normalized_total_rating = users_total_rating / users_total_rating.sum()\n",
    "movies_normalized_total_rating = movies_total_rating / movies_total_rating.sum()\n",
    "\n",
    "\n",
    "u = users_normalized_total_rating\n",
    "v = movies_normalized_total_rating\n",
    "\n",
    "u.sort()\n",
    "v.sort()\n"
   ]
  },
  {
   "cell_type": "code",
   "execution_count": 543,
   "metadata": {},
   "outputs": [
    {
     "data": {
      "text/plain": [
       "<BarContainer object of 610 artists>"
      ]
     },
     "execution_count": 543,
     "metadata": {},
     "output_type": "execute_result"
    },
    {
     "data": {
      "image/png": "[encoded data removed]",
      "text/plain": [
       "<Figure size 640x480 with 1 Axes>"
      ]
     },
     "metadata": {},
     "output_type": "display_data"
    }
   ],
   "source": [
    "import matplotlib.pyplot as plt\n",
    "plt.bar(range(len(u)), u)\n"
   ]
  },
  {
   "cell_type": "code",
   "execution_count": 544,
   "metadata": {},
   "outputs": [
    {
     "data": {
      "text/plain": [
       "<BarContainer object of 4980 artists>"
      ]
     },
     "execution_count": 544,
     "metadata": {},
     "output_type": "execute_result"
    },
    {
     "data": {
      "image/png": "[encoded data removed]",
      "text/plain": [
       "<Figure size 640x480 with 1 Axes>"
      ]
     },
     "metadata": {},
     "output_type": "display_data"
    }
   ],
   "source": [
    "import matplotlib.pyplot as plt\n",
    "plt.bar(range(len(v)), v)\n"
   ]
  },
  {
   "cell_type": "code",
   "execution_count": 606,
   "metadata": {},
   "outputs": [
    {
     "name": "stdout",
     "output_type": "stream",
     "text": [
      "(610, 1)\n",
      "(1, 4980)\n",
      "850.0137737613253\n"
     ]
    }
   ],
   "source": [
    "from sklearn.decomposition import NMF\n",
    "import scipy.sparse as sps\n",
    "\n",
    "csr_ratings_train = sps.csr_matrix(np.nan_to_num(ratings_train), shape=(610, 4980))\n",
    "csr_ratings_train.eliminate_zeros()\n",
    "\n",
    "nmf = NMF(n_components=1, init='nndsvd', random_state=0, max_iter=1000, beta_loss='kullback-leibler', solver='mu')\n",
    "W = nmf.fit_transform(csr_ratings_train)\n",
    "H = nmf.components_\n",
    "\n",
    "print(W.shape)\n",
    "print(H.shape)\n",
    "print(nmf.reconstruction_err_)\n"
   ]
  },
  {
   "cell_type": "code",
   "execution_count": 582,
   "metadata": {},
   "outputs": [],
   "source": [
    "def compute_rmse(predictions, test_matrix):\n",
    "  masked = np.ma.array(test_matrix, mask=np.isnan(test_matrix))\n",
    "  diff = np.ma.subtract(predictions, masked)\n",
    "  squared = np.ma.power(diff, 2)\n",
    "  return np.ma.sqrt(np.ma.mean(squared))\n"
   ]
  },
  {
   "cell_type": "code",
   "execution_count": 127,
   "metadata": {},
   "outputs": [],
   "source": [
    "def sinkhorn(A, N, M, L):\n",
    "    # Pseudo-Code for calculating the doubly stochastic matrix\n",
    "    # using Sinkhorn-Knopp algorithm.\n",
    "    # ----------\n",
    "    # Input: positive matrix A[N x N], max iteration L\n",
    "\n",
    "    def converge(M):\n",
    "      u = (M / M.sum()).sum(axis=1)\n",
    "      v = (M.T / M.T.sum()).sum(axis=1)\n",
    "      return np.allclose(u.sum(), 1) and np.allclose(v.sum(), 1)\n",
    "\n",
    "    for i in range(L):\n",
    "        A = A / np.matmul(A, np.ones((1, N)))\n",
    "        A = A / np.matmul(np.ones((M, 1)), A)\n",
    "\n",
    "        # Test for convergence and early stop.\n",
    "        if converge(A):\n",
    "            break\n",
    "\n",
    "    return A\n"
   ]
  }
 ],
 "metadata": {
  "kernelspec": {
   "display_name": "ds-projet-2023",
   "language": "python",
   "name": "python3"
  },
  "language_info": {
   "codemirror_mode": {
    "name": "ipython",
    "version": 3
   },
   "file_extension": ".py",
   "mimetype": "text/x-python",
   "name": "python",
   "nbconvert_exporter": "python",
   "pygments_lexer": "ipython3",
   "version": "3.10.11"
  },
  "orig_nbformat": 4
 },
 "nbformat": 4,
 "nbformat_minor": 2
}
